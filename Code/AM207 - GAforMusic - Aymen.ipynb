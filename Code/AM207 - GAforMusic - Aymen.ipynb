{
 "metadata": {
  "name": ""
 },
 "nbformat": 3,
 "nbformat_minor": 0,
 "worksheets": [
  {
   "cells": [
    {
     "cell_type": "code",
     "collapsed": false,
     "input": [
      "%matplotlib inline\n",
      "from __future__ import division\n",
      "import numpy as np\n",
      "import pandas as pd\n",
      "import scipy.stats as stats\n",
      "import scipy\n",
      "import statsmodels.api as sm\n",
      "import statsmodels\n",
      "import statsmodels.graphics.tsaplots as tsaplots\n",
      "import prettyplotlib as pplt\n",
      "import matplotlib.pyplot as plt\n",
      "from matplotlib import rcParams\n",
      "from matplotlib import cm\n",
      "import itertools\n",
      "import time\n",
      "rcParams['figure.figsize'] = (16, 11)"
     ],
     "language": "python",
     "metadata": {},
     "outputs": [],
     "prompt_number": 1
    },
    {
     "cell_type": "code",
     "collapsed": false,
     "input": [],
     "language": "python",
     "metadata": {},
     "outputs": []
    }
   ],
   "metadata": {}
  }
 ]
}